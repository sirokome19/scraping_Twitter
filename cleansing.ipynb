{
 "cells": [
  {
   "cell_type": "markdown",
   "id": "utility-acrylic",
   "metadata": {},
   "source": [
    "## cleansing"
   ]
  },
  {
   "cell_type": "code",
   "execution_count": null,
   "id": "conventional-sunglasses",
   "metadata": {},
   "outputs": [],
   "source": [
    "import re,regex, csv\n",
    "def cleansing(text):\n",
    "    ng_list=[\"http\",\"ハズレ\",\"おは\",\"おやすみ\", \"よろ\", \"こん\", \"あり\", \"はじめまして\", \"企画\", \"くん\", \"ちゃん\", \"さん\"]\n",
    "    if any(map(lambda x : x in text, ng_list)):\n",
    "        return \"\"\n",
    "    if re.compile(r\"http\").search(text):\n",
    "        return \"\"\n",
    "    text=regex.sub(r\"[\\s\\n～~〜\\p{Emoji_Presentation=Yes}]+\",\"！\",text) # 空白、改行、～、絵文字を強調として！に置換\n",
    "#     text=regex.sub(r\"+\",\"\",text)\n",
    "    text=re.sub(r\"[wWｗW]+\",\"\",text) # 除草\n",
    "    text=re.sub(r\"(.)\\1{2,}\",\"\",text) #ああああなどの無意味な繰り返しを削除\n",
    "    text=regex.sub(r\"[^ぁ-ゖァ-ヺー\\p{Script=Han}、。！？]?[(（].?[)）][^ぁ-ゖァ-ヺー\\p{Script=Han}、。！？]?ノ?\",\"\",text) # カッコを削除・顔文字の手を削除\n",
    "    text=re.sub(r\"[！!]+\",\"！\",text) # 複数の感嘆符をまとめる\n",
    "    text=re.sub(r\"[?？]+\",\"？\",text)\n",
    "    text=re.sub(\"[….・、]+\",\"、\",text)\n",
    "    text=re.sub(r\"[！？]+[！？]+\",\"！？\",text) # 「！？？！？」みたいなオタクびっくり表現を「！？」に置換\n",
    "    \n",
    "    if regex.compile(r\"[^ぁ-ゖァ-ヺー\\p{Script=Han}、。！？]+\").search(text): #日本語以外を含んでいたらすべて捨てる\n",
    "        text=\"\"\n",
    "    return text"
   ]
  },
  {
   "cell_type": "code",
   "execution_count": null,
   "id": "formal-fiber",
   "metadata": {},
   "outputs": [],
   "source": [
    "with open(QandA_any_path,\"r\") as f:\n",
    "    reader=csv.reader(f)\n",
    "    for q,a in reader:\n",
    "        q_val, a_val=cleansing(q),cleansing(a)\n",
    "        if q_val and a_val:\n",
    "            print(q_val)\n",
    "            print(a_val)\n",
    "            print()"
   ]
  },
  {
   "cell_type": "code",
   "execution_count": null,
   "id": "structural-haiti",
   "metadata": {},
   "outputs": [],
   "source": [
    "tmp=\"おはようございます\"+\"ありがとうございます\"+\"はじめまして\"+\"した\"+\"こんにちは\"+\"よろしくおねがいします\"+\"きも\"+\"つ\"\n",
    "set(list(tmp))"
   ]
  }
 ],
 "metadata": {
  "kernelspec": {
   "display_name": "py37-yasuda",
   "language": "python",
   "name": "py37-yasuda"
  },
  "language_info": {
   "codemirror_mode": {
    "name": "ipython",
    "version": 3
   },
   "file_extension": ".py",
   "mimetype": "text/x-python",
   "name": "python",
   "nbconvert_exporter": "python",
   "pygments_lexer": "ipython3",
   "version": "3.7.9"
  }
 },
 "nbformat": 4,
 "nbformat_minor": 5
}
